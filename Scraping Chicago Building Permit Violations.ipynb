{
 "cells": [
  {
   "cell_type": "markdown",
   "metadata": {},
   "source": [
    "## Logging on\n",
    "\n",
    "Use Selenium to visit https://webapps1.chicago.gov/buildingrecords/ and accept the agreement.\n",
    "\n",
    "> Think about when you use `.find_element...` and when you use `.find_elementSSS...`"
   ]
  },
  {
   "cell_type": "code",
   "execution_count": 469,
   "metadata": {},
   "outputs": [
    {
     "name": "stderr",
     "output_type": "stream",
     "text": [
      "\n",
      "\n",
      "====== WebDriver manager ======\n",
      "Current google-chrome version is 96.0.4664\n",
      "Get LATEST chromedriver version for 96.0.4664 google-chrome\n",
      "Driver [/Users/jessieblaeser/.wdm/drivers/chromedriver/mac64/96.0.4664.45/chromedriver] found in cache\n",
      "/var/folders/qx/nkh2pq6x3_193757ddxvrcf40000gp/T/ipykernel_5169/979343879.py:14: DeprecationWarning: executable_path has been deprecated, please pass in a Service object\n",
      "  driver = webdriver.Chrome(ChromeDriverManager().install())\n"
     ]
    }
   ],
   "source": [
    "import pandas as pd\n",
    "\n",
    "import time\n",
    "\n",
    "from selenium import webdriver\n",
    "from selenium.webdriver.common.by import By\n",
    "from selenium.webdriver.support.ui import WebDriverWait\n",
    "from selenium.webdriver.support import expected_conditions as EC\n",
    "from selenium.webdriver.support.ui import Select\n",
    "\n",
    "from selenium import webdriver\n",
    "from webdriver_manager.chrome import ChromeDriverManager\n",
    "\n",
    "driver = webdriver.Chrome(ChromeDriverManager().install())"
   ]
  },
  {
   "cell_type": "code",
   "execution_count": 470,
   "metadata": {},
   "outputs": [],
   "source": [
    "driver.get('https://webapps1.chicago.gov/buildingrecords/')"
   ]
  },
  {
   "cell_type": "code",
   "execution_count": 471,
   "metadata": {},
   "outputs": [],
   "source": [
    "driver.find_element(By.ID, 'rbnAgreement1').click()"
   ]
  },
  {
   "cell_type": "code",
   "execution_count": 472,
   "metadata": {},
   "outputs": [],
   "source": [
    "driver.find_element(By.ID, 'submit').click()"
   ]
  },
  {
   "cell_type": "markdown",
   "metadata": {},
   "source": [
    "## Searching\n",
    "\n",
    "Search for **400 E 41ST ST**."
   ]
  },
  {
   "cell_type": "code",
   "execution_count": 473,
   "metadata": {},
   "outputs": [],
   "source": [
    "#fullAddress\n",
    "#driver.find_element(By.ID, \"pht_lnm\").send_keys(\"Nguyen\")"
   ]
  },
  {
   "cell_type": "code",
   "execution_count": 474,
   "metadata": {},
   "outputs": [],
   "source": [
    "driver.find_element(By.ID, 'fullAddress').send_keys(\"400 E 41ST ST.\")"
   ]
  },
  {
   "cell_type": "code",
   "execution_count": 475,
   "metadata": {},
   "outputs": [],
   "source": [
    "driver.find_element(By.ID, 'submit').click()"
   ]
  },
  {
   "cell_type": "markdown",
   "metadata": {},
   "source": [
    "## Saving tables with pandas\n",
    "\n",
    "Use pandas to save a CSV of all **permits** to `Permits - 400 E 41ST ST.csv`. Note that there are **different sections of the page**, not just one long permits table.\n",
    "\n",
    "> - *Tip: When using `.read_html`, try using `flavor='lxml'` and comparing the results to `flavor='html5lib'`. Which works better?*\n",
    "> - *Tip: You might need to install `html5lib` using `pip`. If so, you'll need to restart the notebook using **Kernel > Restart** before it will work.*"
   ]
  },
  {
   "cell_type": "code",
   "execution_count": 476,
   "metadata": {},
   "outputs": [],
   "source": [
    "#!pip install html5lib"
   ]
  },
  {
   "cell_type": "code",
   "execution_count": 477,
   "metadata": {},
   "outputs": [],
   "source": [
    "# table = driver.find_element(By.ID, 'resultstable_permits')\n",
    "# df = pd.read_html(driver.page_source, flavor='lxml')\n",
    "#^this returns a list of df's\n",
    "# df = df[0]\n",
    "# # QUESTION: i am entirely confused as to how this works!! \n",
    "\n",
    "# df.to_csv('Permits - 400 E 41ST ST.csv', index=False)\n",
    "\n",
    "# df_new = pd.read_csv(\"Permits - 400 E 41ST ST.csv\")\n",
    "# df_new.head()\n",
    "\n",
    "#NOTE: lxml replaced my date column with NaN's!!! \n",
    "\n",
    "table = driver.find_element(By.ID, 'resultstable_permits')\n",
    "df = pd.read_html(driver.page_source, flavor='html5lib')\n",
    "df = df[0]\n",
    "df.to_csv('Permits - 400 E 41ST ST.csv', index=False)\n",
    "# df_new = pd.read_csv(\"Permits - 400 E 41ST ST.csv\")\n",
    "# df_new.head()\n",
    "\n",
    "#NOTE: so i like html5lib better!!"
   ]
  },
  {
   "cell_type": "code",
   "execution_count": 478,
   "metadata": {},
   "outputs": [],
   "source": [
    "#find all permiits\n",
    "# in each tr (row), find the first td (first cell, which is the permit number)"
   ]
  },
  {
   "cell_type": "code",
   "execution_count": 479,
   "metadata": {},
   "outputs": [
    {
     "data": {
      "text/plain": [
       "[{'permit_num': '100845718',\n",
       "  'date_issued': '10/11/2019',\n",
       "  'work_descrip': 'ERECT TWO SCAFFOLDS FROM 10/14/2019 TO 10/14/2020.'},\n",
       " {'permit_num': '100778302',\n",
       "  'date_issued': '08/17/2018',\n",
       "  'work_descrip': \"PERMIT EXPIRES ON 10/17/2018 Erection Starts: 8/24/2018, Erection Ends: 8/25/2018. TENT- 1 DAY EVENT 8/25/18 ERECT ONE (1) 40'X60' POLE TENT SETUP 8/24/18- REMOVE 8/25/18 ASSEMBLY **** CONDITIONAL APPROVAL **** SUBJECT TO FIELD INSPECTION **** AOR CERTIFICATE OF INSPECTION REQUIRED ****\"},\n",
       " {'permit_num': '100721255',\n",
       "  'date_issued': '08/24/2017',\n",
       "  'work_descrip': 'PERMIT EXPIRES ON 10/24/2017 ERECTION STARTS: 8/25/2017, ERECTION ENDS: 8/26/2017. SELF CERTIFICATION. REINSTATEMENT OF 2015 PERMIT 100610771 FOR THE PAUL G STEWART CENTER EVENT. SAME 40X60 CANOPY. AAA RENTAL SYSTEM.** CONDITIONAL APPROVAL **SUBJECT TO FIELD INSPECTION * AOR CERTIFICATION OF INSPECTION REQUIRED.'},\n",
       " {'permit_num': '100693399',\n",
       "  'date_issued': '03/03/2017',\n",
       "  'work_descrip': 'INSTALLATION OF LOW VOLTAGE BURGLAR ALARM INTERIOR WORK ONLY # 573-22178'},\n",
       " {'permit_num': '100665436',\n",
       "  'date_issued': '08/24/2016',\n",
       "  'work_descrip': \"PERMIT EXPIRES ON 10/24/2016 ERECTION STARTS: 8/26/2016, ERECTION ENDS: 8/28/2016. REINSTATEMENT #1 OF TENT PERMIT 100610771 - PEOPLE'S CONSUMER / STEWART CENTER FAMILY DAY TENT. 1-40X60 TENT. AAA RENTAL SYSTEM. **SELF CERTIFIED TENT PERMIT ** CONDITIONAL APPROVAL ** SUBJECT TO FIELD INSPECTION ** AOR CERTIFICATION OF INSPECTION REQUIRED.\"},\n",
       " {'permit_num': '100610771',\n",
       "  'date_issued': '08/28/2015',\n",
       "  'work_descrip': 'PERMIT EXPIRES ON 10/28/2015 ERECTION STARTS: 8/28/2015, ERECTION ENDS: 8/30/2015. TEMPORARY CANOPY FOR THE PAUL G STEWART EVENT ON AUG. 29, 2015. 1-40X60 CANOPY. AAA RENTAL SYSTEM.** SELF CERTIFIED CANOPY PERMIT** CONDITIONAL APPROVAL SUBJECT TO FIELD INSPECTION** AOR CERTIFICATION OF INSPECTION REQUIRED'},\n",
       " {'permit_num': '100581991',\n",
       "  'date_issued': '02/18/2015',\n",
       "  'work_descrip': 'TRACE AND REPAIR BROKEN UNDERGROUND FEED TO EXISTING LIGHTPOLE.'},\n",
       " {'permit_num': '100479194',\n",
       "  'date_issued': '04/16/2013',\n",
       "  'work_descrip': 'INTERNALLY LIT SIGN CABINET ON SOUTH ELEVATION'},\n",
       " {'permit_num': '100385721',\n",
       "  'date_issued': '03/25/2011',\n",
       "  'work_descrip': 'RPACE CONCRETE SLAB WITH NEW AT GROUNGD FLOOR LEVEL (APPROX. 265 SF)'},\n",
       " {'permit_num': '100267298',\n",
       "  'date_issued': '12/04/2008',\n",
       "  'work_descrip': 'INTERIOR ALTERATIONS TO MEDICAL OFFICE SUITE 103 (TOWER 2) PER PLANS. -CONDITIONAL PERMIT, SUBJECT TO FIELD VERIFICATION.'},\n",
       " {'permit_num': '100218969',\n",
       "  'date_issued': '01/08/2008',\n",
       "  'work_descrip': 'Revision to Permit. Removing walls at elevator lobby areas in Tower II.'},\n",
       " {'permit_num': '100195892',\n",
       "  'date_issued': '11/01/2007',\n",
       "  'work_descrip': 'INTERIOR ALTERATIONS TO 1ST FLOOR TENANT SPACES OF EXISTING APARTMENT BUILDING PER PLANS'},\n",
       " {'permit_num': '100178678',\n",
       "  'date_issued': '05/16/2007',\n",
       "  'work_descrip': 'WIRE ALL LOW VOLTAGE TEMPERATURE CONTROLS ALL UNITS ALL FLRS.'},\n",
       " {'permit_num': '100154767',\n",
       "  'date_issued': '12/21/2006',\n",
       "  'work_descrip': 'MODERNIZE FIVE (5) PASSENGER ELEVATORS AS PER SCOPE OF WORK'},\n",
       " {'permit_num': '100153183',\n",
       "  'date_issued': '12/12/2006',\n",
       "  'work_descrip': 'Renovation/Alterations to 19-story Tower #2.'},\n",
       " {'permit_num': '100153182',\n",
       "  'date_issued': '12/12/2006',\n",
       "  'work_descrip': 'Renovation/Alterations to 27-story Tower #1.'},\n",
       " {'permit_num': 'B20022113',\n",
       "  'date_issued': '04/25/2001',\n",
       "  'work_descrip': \"1N REPAIR,PATCH, 908' LG CON TERRACE WALL ( 3 FT HIGH ), REMOUNT 142 RAILING POST AS PER PLANS\"},\n",
       " {'permit_num': 'EL1566941',\n",
       "  'date_issued': '04/27/2000',\n",
       "  'work_descrip': 'INSTALL 3 HPS WALL FIXTURE ON BUILDING'},\n",
       " {'permit_num': 'B97033015',\n",
       "  'date_issued': '05/14/1997',\n",
       "  'work_descrip': 'THREE (3) PASSENGER ELEVATORS ADAMS DOOR RESTRICTORS'},\n",
       " {'permit_num': 'EL9445368',\n",
       "  'date_issued': '02/14/1994',\n",
       "  'work_descrip': \"ADD 2-ADD'TL METER SOCKETS & 2-BRKR PNLS\"},\n",
       " {'permit_num': 'EL9443103',\n",
       "  'date_issued': '02/08/1994',\n",
       "  'work_descrip': 'INSTALL PHONE SYSTEM (MERLIN)'},\n",
       " {'permit_num': 'EL8874529',\n",
       "  'date_issued': '07/22/1992',\n",
       "  'work_descrip': 'INSTALL LOW VOLTAGE SECURITY SYSTEM'},\n",
       " {'permit_num': 'EL8770080',\n",
       "  'date_issued': '12/17/1991',\n",
       "  'work_descrip': '100A SERVICE, 2-METER SOCKETS'},\n",
       " {'permit_num': 'EL7634958',\n",
       "  'date_issued': '02/19/1988',\n",
       "  'work_descrip': '6-15 AMP 2-WIRE CKTS AND SIX (6) FIXTURS'},\n",
       " {'permit_num': 'EL7393792',\n",
       "  'date_issued': '05/05/1987',\n",
       "  'work_descrip': 'LOW VOLTAGE PHONE SYSTEM EQUITY 111'},\n",
       " {'permit_num': 'ES3148854', 'date_issued': '10/29/1984', 'work_descrip': ''},\n",
       " {'permit_num': 'EL6455110',\n",
       "  'date_issued': '07/26/1984',\n",
       "  'work_descrip': 'INSTALL 278 OUTLETS ON EXIST CIRC'},\n",
       " {'permit_num': 'EL6345593',\n",
       "  'date_issued': '04/05/1984',\n",
       "  'work_descrip': 'STANLEY MAGIC DOOR EQUIPT INSTALLATION'},\n",
       " {'permit_num': 'EL6242147',\n",
       "  'date_issued': '11/22/1983',\n",
       "  'work_descrip': '2000A SERV, 400A SERV, 200A SERV,'},\n",
       " {'permit_num': 'EL6196217',\n",
       "  'date_issued': '10/03/1983',\n",
       "  'work_descrip': '400A SERVICE'},\n",
       " {'permit_num': 'EL5912649',\n",
       "  'date_issued': '11/03/1982',\n",
       "  'work_descrip': 'ADD FEE TO PERMIT #5764111'},\n",
       " {'permit_num': 'EL5764118',\n",
       "  'date_issued': '05/24/1982',\n",
       "  'work_descrip': '400A SERVICE'}]"
      ]
     },
     "execution_count": 479,
     "metadata": {},
     "output_type": "execute_result"
    }
   ],
   "source": [
    "#NOTE: I did it this way first, but I'm seeing now that I did not actually need to?? Sad. \n",
    "\n",
    "table = driver.find_element(By.ID, 'resultstable_permits')\n",
    "rows = table.find_elements(By.TAG_NAME, 'tr')\n",
    "\n",
    "permit_table = []\n",
    "for row in rows[1:]: \n",
    "    permit_dict = {}\n",
    "    permit_dict['permit_num'] = row.find_element(By.TAG_NAME, \"td\").text\n",
    "    cells = row.find_elements(By.TAG_NAME, 'td')\n",
    "    #print(cells[1].text)\n",
    "    permit_dict['date_issued'] = cells[1].text\n",
    "    #print(cells[2].text)\n",
    "    permit_dict['work_descrip'] = cells[2].text\n",
    "    permit_table.append(permit_dict)\n",
    "permit_table\n",
    "#len(permit_table)\n"
   ]
  },
  {
   "cell_type": "markdown",
   "metadata": {},
   "source": [
    "## Saving tables the long way\n",
    "\n",
    "Save a CSV of all DOB inspections to `Inspections - 400 E 41ST ST.csv`.\n",
    "\n",
    "This is more complicated than the last one becuse **we also need to save the URL to the inspection** (see how the inspection number is a link?). As a result, you won't be able to use pandas! Instead, you'll need to use a loop and create a list of dictionaries.\n",
    "\n",
    "You can use Selenium or you can feed the source to BeautifulSoup. You should have approximately 160 rows.\n",
    "\n",
    "You'll probably need to find the table first, then the rows inside, then the cells inside of each row. You'll probably use lots of list indexing. I might recommend XPath for finding the table.\n",
    "\n",
    "*Tip: If you get a \"list index out of range\" error, it's probably due to an issue involving `thead` vs `tbody` elements. What are they? What are they for? What's in them? There are a few ways to troubleshoot it.*"
   ]
  },
  {
   "cell_type": "code",
   "execution_count": 480,
   "metadata": {},
   "outputs": [],
   "source": [
    "dob_table = driver.find_element(By.ID, 'resultstable_inspections')\n",
    "# from here, each tr tag is a row\n",
    "rows = dob_table.find_elements(By.TAG_NAME, 'tr')\n",
    "#rows[0] = header\n",
    "# td[0] --> insp #\n",
    "# -----> td[0] --> a --> href\n",
    "# td[1] --> insp date\n",
    "# td[2] --> status\n",
    "# td[3] --> type descrip"
   ]
  },
  {
   "cell_type": "code",
   "execution_count": 481,
   "metadata": {},
   "outputs": [
    {
     "data": {
      "text/plain": [
       "160"
      ]
     },
     "execution_count": 481,
     "metadata": {},
     "output_type": "execute_result"
    }
   ],
   "source": [
    "dob_table = driver.find_element(By.ID, 'resultstable_inspections')\n",
    "# from here, each tr tag is a row\n",
    "rows = dob_table.find_elements(By.TAG_NAME, 'tr')\n",
    "\n",
    "dob_list = []\n",
    "for row in rows[1:]: \n",
    "    dob_dict = {}\n",
    "    cells = row.find_elements(By.TAG_NAME, 'td')\n",
    "#     print(cells[0].text)\n",
    "#     print(cells[1].text)\n",
    "#     print(cells[2].text)\n",
    "#     print(cells[3].text)\n",
    "#     print('------------')\n",
    "    dob_dict['insp_num'] = cells[0].text\n",
    "    dob_dict['href'] = cells[0].find_element(By.TAG_NAME, 'a').get_attribute('href')\n",
    "    dob_dict['insp_date'] = cells[1].text\n",
    "    dob_dict['status'] = cells[2].text\n",
    "    dob_dict['type_descrip'] = cells[3].text\n",
    "    dob_list.append(dob_dict)\n",
    "dob_list\n",
    "len(dob_list)"
   ]
  },
  {
   "cell_type": "code",
   "execution_count": 482,
   "metadata": {},
   "outputs": [],
   "source": [
    "df = pd.DataFrame(dob_list)\n",
    "df\n",
    "df.to_csv('Inspections - 400 E 41ST ST.csv', index=False)"
   ]
  },
  {
   "cell_type": "code",
   "execution_count": 483,
   "metadata": {},
   "outputs": [],
   "source": [
    "# for row in rows[1:]: \n",
    "#     dob_dict = {}\n",
    "#     cells = row.find_elements(By.TAG_NAME, 'td')\n",
    "#     print(cells[0].find_element(By.TAG_NAME, 'a').get_attribute('href'))"
   ]
  },
  {
   "cell_type": "markdown",
   "metadata": {},
   "source": [
    "### Bonus preview of Wednesday's content\n",
    "\n",
    "**You prrrrrobably shouldn't do this one unless you want a real challenge.**\n",
    "\n",
    "If you click the inspection number, it'll open up a new window that shows you details of the violations from that visit. Count the number of violations for each visit and save it in a new column called **num_violations**.\n",
    "\n",
    "Save this file as `Inspections - 400 E 41ST ST - with counts.csv`.\n",
    "\n",
    "Since clicking the link opens in a new window, we have to say \"Hey Selenium, pay attention to that new window!\" We do that with `driver.switch_to.window(driver.window_handles[-1])` (each window gets a `window_handle`, and we're just asking the driver to switch to the last one.). A rough sketch of what your code will look like is here:\n",
    "\n",
    "```python\n",
    "# Click the link that opens the new window\n",
    "\n",
    "# Switch to the new window/tab\n",
    "driver.switch_to.window(driver.window_handles[-1])\n",
    "\n",
    "# Do your scraping in here\n",
    "\n",
    "# Close the new window/tab\n",
    "driver.close()\n",
    "\n",
    "# Switch back to the original window/tab\n",
    "driver.switch_to.window(driver.window_handles[0])\n",
    "```\n",
    "\n",
    "You'll want to play around with them individually before you try it with the whole set - the ones that pass are very different pages than the ones with violations! There are a few ways to get the number of violations, some easier than others."
   ]
  },
  {
   "cell_type": "code",
   "execution_count": 484,
   "metadata": {},
   "outputs": [],
   "source": [
    "# dob_table = driver.find_element(By.ID, 'resultstable_inspections')\n",
    "# rows = dob_table.find_elements(By.TAG_NAME, 'tr')\n",
    "# first_cell = rows[1]\n",
    "# first_cell.find_element(By.TAG_NAME, 'a').click()\n",
    "# driver.switch_to.window(driver.window_handles[-1])\n"
   ]
  },
  {
   "cell_type": "code",
   "execution_count": 485,
   "metadata": {},
   "outputs": [],
   "source": [
    "# table = driver.find_element(By.ID, 'resultstable')\n",
    "# rows = table.find_elements(By.TAG_NAME, 'tr')\n",
    "# len(rows)\n",
    "# #seems first two 'tr' tags are always related to the header of the table, so i'm going to count \n",
    "# count = len(rows) - 2\n",
    "# count"
   ]
  },
  {
   "cell_type": "code",
   "execution_count": 486,
   "metadata": {},
   "outputs": [],
   "source": [
    "# driver.close()\n",
    "# driver.switch_to.window(driver.window_handles[0])\n"
   ]
  },
  {
   "cell_type": "code",
   "execution_count": 487,
   "metadata": {},
   "outputs": [],
   "source": [
    "# Checking on a similar cell \n",
    "dob_table = driver.find_element(By.ID, 'resultstable_inspections')\n",
    "rows = dob_table.find_elements(By.TAG_NAME, 'tr')\n",
    "second_cell = rows[2]\n",
    "second_cell.find_element(By.TAG_NAME, 'a').click()\n",
    "driver.switch_to.window(driver.window_handles[-1])\n"
   ]
  },
  {
   "cell_type": "code",
   "execution_count": 488,
   "metadata": {},
   "outputs": [
    {
     "data": {
      "text/plain": [
       "4"
      ]
     },
     "execution_count": 488,
     "metadata": {},
     "output_type": "execute_result"
    }
   ],
   "source": [
    "table = driver.find_element(By.ID, 'resultstable')\n",
    "rows = table.find_elements(By.TAG_NAME, 'tr')\n",
    "# len(rows)\n",
    "# #seems first two 'tr' tags are always related to the header of the table, so i'm going to count \n",
    "count2 = len(rows) - 2\n",
    "count2"
   ]
  },
  {
   "cell_type": "code",
   "execution_count": 489,
   "metadata": {},
   "outputs": [],
   "source": [
    "driver.close()\n",
    "driver.switch_to.window(driver.window_handles[0])"
   ]
  },
  {
   "cell_type": "code",
   "execution_count": 490,
   "metadata": {},
   "outputs": [],
   "source": [
    "# Checking on a 'Passed' cell"
   ]
  },
  {
   "cell_type": "code",
   "execution_count": 491,
   "metadata": {},
   "outputs": [],
   "source": [
    "dob_table = driver.find_element(By.ID, 'resultstable_inspections')\n",
    "rows = dob_table.find_elements(By.TAG_NAME, 'tr')\n",
    "second_cell = rows[6]\n",
    "second_cell.find_element(By.TAG_NAME, 'a').click()\n",
    "driver.switch_to.window(driver.window_handles[-1])"
   ]
  },
  {
   "cell_type": "code",
   "execution_count": 492,
   "metadata": {},
   "outputs": [
    {
     "data": {
      "text/plain": [
       "'There are no Alleged Code Violation records for Inspection 12770690'"
      ]
     },
     "execution_count": 492,
     "metadata": {},
     "output_type": "execute_result"
    }
   ],
   "source": [
    "# I guess here i'd need to create an if statement or a try/except clause\n",
    "passed_result = driver.find_element(By.TAG_NAME, 'h5')\n",
    "passed_result.text\n",
    "\n",
    "#so if passed_result is not none, then the count = 0 "
   ]
  },
  {
   "cell_type": "code",
   "execution_count": 493,
   "metadata": {},
   "outputs": [],
   "source": [
    "#passed_result.text"
   ]
  },
  {
   "cell_type": "code",
   "execution_count": 494,
   "metadata": {},
   "outputs": [],
   "source": [
    "driver.close()\n",
    "driver.switch_to.window(driver.window_handles[0])"
   ]
  },
  {
   "cell_type": "code",
   "execution_count": 495,
   "metadata": {},
   "outputs": [],
   "source": [
    "#I applied everything above here to make sure it worked on its own before \n",
    "    # attempting to incorporate into the larger dictionary \n",
    "\n",
    "# violation_list = []\n",
    "# for row in rows[1:10]:\n",
    "#     violation_dict = {}\n",
    "#     row.find_element(By.TAG_NAME, 'a').click()\n",
    "#     driver.switch_to.window(driver.window_handles[-1])\n",
    "#     try: \n",
    "#         table2 = driver.find_element(By.ID, 'resultstable')\n",
    "#         rows2 = table2.find_elements(By.TAG_NAME, 'tr')\n",
    "#         count = len(rows2) - 2\n",
    "#         violation_dict['num_violations'] = count\n",
    "#     except: \n",
    "#         violation_dict['num_violations'] = 0\n",
    "#     driver.close()\n",
    "#     driver.switch_to.window(driver.window_handles[0])\n",
    "#     violation_list.append(violation_dict)\n",
    "# #violation_list\n",
    "\n",
    "# # it worksssssssssssss!!!!!!!! "
   ]
  },
  {
   "cell_type": "code",
   "execution_count": 496,
   "metadata": {},
   "outputs": [
    {
     "data": {
      "text/plain": [
       "160"
      ]
     },
     "execution_count": 496,
     "metadata": {},
     "output_type": "execute_result"
    }
   ],
   "source": [
    "dob_table = driver.find_element(By.ID, 'resultstable_inspections')\n",
    "# from here, each tr tag is a row\n",
    "rows = dob_table.find_elements(By.TAG_NAME, 'tr')\n",
    "# from there, each td tag is a cell \n",
    "\n",
    "dob_list_updated = []\n",
    "for row in rows[1:]: \n",
    "    dob_dict = {}\n",
    "    cells = row.find_elements(By.TAG_NAME, 'td')\n",
    "    dob_dict['insp_num'] = cells[0].text\n",
    "    dob_dict['href'] = cells[0].find_element(By.TAG_NAME, 'a').get_attribute('href')\n",
    "    dob_dict['insp_date'] = cells[1].text\n",
    "    dob_dict['status'] = cells[2].text\n",
    "    dob_dict['type_descrip'] = cells[3].text\n",
    "    row.find_element(By.TAG_NAME, 'a').click()\n",
    "    driver.switch_to.window(driver.window_handles[-1])\n",
    "    try: \n",
    "        table2 = driver.find_element(By.ID, 'resultstable')\n",
    "        rows2 = table2.find_elements(By.TAG_NAME, 'tr')\n",
    "        count = len(rows2) - 2\n",
    "        dob_dict['num_violations'] = count\n",
    "    except: \n",
    "        dob_dict['num_violations'] = 0\n",
    "    driver.close()\n",
    "    driver.switch_to.window(driver.window_handles[0])\n",
    "    dob_list_updated.append(dob_dict)\n",
    "len(dob_list_updated)\n",
    "\n",
    "# :')\n"
   ]
  },
  {
   "cell_type": "code",
   "execution_count": 499,
   "metadata": {},
   "outputs": [],
   "source": [
    "df = pd.DataFrame(dob_list_updated)\n",
    "#df.head(10)\n",
    "df.to_csv('Inspections - 400 E 41ST ST - with counts.csv', index=False)"
   ]
  },
  {
   "cell_type": "code",
   "execution_count": null,
   "metadata": {},
   "outputs": [],
   "source": [
    "#yaaaaaay!!! "
   ]
  }
 ],
 "metadata": {
  "kernelspec": {
   "display_name": "Python 3 (ipykernel)",
   "language": "python",
   "name": "python3"
  },
  "language_info": {
   "codemirror_mode": {
    "name": "ipython",
    "version": 3
   },
   "file_extension": ".py",
   "mimetype": "text/x-python",
   "name": "python",
   "nbconvert_exporter": "python",
   "pygments_lexer": "ipython3",
   "version": "3.10.0"
  }
 },
 "nbformat": 4,
 "nbformat_minor": 4
}
